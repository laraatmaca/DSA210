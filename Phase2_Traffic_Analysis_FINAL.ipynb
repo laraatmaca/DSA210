{
 "cells": [
  {
   "cell_type": "markdown",
   "id": "4579ba84",
   "metadata": {},
   "source": [
    "# 📊 Phase 2: Traffic Accident Analysis in Turkey (TUIK + EGM)\n",
    "This notebook contains data visualizations and statistical hypothesis tests for analyzing traffic accident trends in Turkey, using data from both TUIK (2022) and EGM (2023–2024)."
   ]
  },
  {
   "cell_type": "code",
   "execution_count": null,
   "id": "550e08ed",
   "metadata": {},
   "outputs": [],
   "source": [
    "import pandas as pd\n",
    "import matplotlib.pyplot as plt\n",
    "import seaborn as sns\n",
    "from scipy.stats import ttest_ind\n",
    "\n",
    "sns.set(style='whitegrid')\n",
    "plt.rcParams['figure.figsize'] = (10, 6)"
   ]
  },
  {
   "cell_type": "code",
   "execution_count": null,
   "id": "e69cb3c7",
   "metadata": {},
   "outputs": [],
   "source": [
    "# 📈 TUIK 2022: Monthly Accidents and Injuries\n",
    "tuik_monthly_df = pd.DataFrame({\n",
    "    'Month': ['January', 'February', 'March', 'April', 'May', 'June', 'July', 'August', 'September', 'October', 'November', 'December'],\n",
    "    'Accidents': [12439, 11418, 13460, 14898, 18664, 17373, 19514, 19699, 19230, 18318, 16599, 15649],\n",
    "    'Injuries': [18158, 16170, 19206, 20547, 27347, 25354, 30834, 30266, 27912, 26363, 24114, 22425]\n",
    "})\n",
    "sns.lineplot(data=tuik_monthly_df, x='Month', y='Accidents', marker='o', label='Accidents')\n",
    "sns.lineplot(data=tuik_monthly_df, x='Month', y='Injuries', marker='o', label='Injuries')\n",
    "plt.title('[TUIK] Monthly Traffic Accidents and Injuries (2022)')\n",
    "plt.xticks(rotation=45)\n",
    "plt.tight_layout()\n",
    "plt.show()"
   ]
  },
  {
   "cell_type": "code",
   "execution_count": null,
   "id": "e2230f94",
   "metadata": {},
   "outputs": [],
   "source": [
    "# 🌞 TUIK 2022: Accidents by Daylight Condition\n",
    "sunlight_df = pd.DataFrame({\n",
    "    'Daylight_Condition': ['Daytime', 'Night', 'Twilight'],\n",
    "    'Accidents': [132009, 60415, 4837]\n",
    "})\n",
    "sns.barplot(data=sunlight_df, x='Daylight_Condition', y='Accidents')\n",
    "plt.title('[TUIK] Traffic Accidents by Daylight Condition (2022)')\n",
    "plt.tight_layout()\n",
    "plt.show()"
   ]
  },
  {
   "cell_type": "code",
   "execution_count": null,
   "id": "c907a4e0",
   "metadata": {},
   "outputs": [],
   "source": [
    "# 🧪 Hypothesis Testing on TUIK Data\n",
    "day, night = sunlight_df.iloc[0, 1], sunlight_df.iloc[1, 1]\n",
    "summer = tuik_monthly_df[tuik_monthly_df['Month'].isin(['June', 'July', 'August'])]\n",
    "winter = tuik_monthly_df[tuik_monthly_df['Month'].isin(['December', 'January', 'February'])]\n",
    "t_stat1, p_val1 = ttest_ind(summer['Accidents'], winter['Accidents'], equal_var=False)\n",
    "t_stat2, p_val2 = ttest_ind([day]*10, [night]*10, equal_var=False)\n",
    "print('T-Test 1 (Summer vs Winter Accidents) p-value:', p_val1)\n",
    "print('T-Test 2 (Daytime vs Nighttime Accidents) p-value:', p_val2)"
   ]
  },
  {
   "cell_type": "code",
   "execution_count": null,
   "id": "9355d72e",
   "metadata": {},
   "outputs": [],
   "source": [
    "# 🚗 EGM May 2023: Top Vehicle Types\n",
    "vehicle_may_df = pd.DataFrame({\n",
    "    'Vehicle_Type': ['Car', 'Motorcycle', 'Pickup', 'Truck', 'Bus', 'Tow Truck', 'Minibus', 'Tractor', 'Bicycle', 'Other'],\n",
    "    'Count': [17085, 6595, 4936, 627, 641, 831, 844, 231, 924, 741]\n",
    "})\n",
    "sns.barplot(data=vehicle_may_df, x='Vehicle_Type', y='Count')\n",
    "plt.title('[EGM May 2023] Top 10 Vehicle Types Involved in Accidents')\n",
    "plt.xticks(rotation=45)\n",
    "plt.tight_layout()\n",
    "plt.show()"
   ]
  },
  {
   "cell_type": "code",
   "execution_count": null,
   "id": "ee46813e",
   "metadata": {},
   "outputs": [],
   "source": [
    "# ❄️ EGM February 2024: Top Vehicle Types\n",
    "vehicle_feb_df = pd.DataFrame({\n",
    "    'Vehicle_Type': ['Car', 'Motorcycle', 'Pickup', 'Truck', 'Bus', 'Tow Truck', 'Minibus', 'Tractor', 'Bicycle', 'Other'],\n",
    "    'Count': [13334, 4829, 3724, 422, 489, 620, 642, 163, 572, 519]\n",
    "})\n",
    "sns.barplot(data=vehicle_feb_df, x='Vehicle_Type', y='Count')\n",
    "plt.title('[EGM Feb 2024] Top 10 Vehicle Types Involved in Accidents')\n",
    "plt.xticks(rotation=45)\n",
    "plt.tight_layout()\n",
    "plt.show()"
   ]
  },
  {
   "cell_type": "code",
   "execution_count": null,
   "id": "5b0c0748",
   "metadata": {},
   "outputs": [],
   "source": [
    "# 🎄 EGM December 2024: Top Vehicle Types\n",
    "vehicle_dec_df = pd.DataFrame({\n",
    "    'Vehicle_Type': ['Car', 'Motorcycle', 'Pickup', 'Tow Truck', 'Bus', 'Truck', 'Minibus', 'Bicycle', 'Tractor', 'Other'],\n",
    "    'Count': [16255, 6175, 4687, 766, 585, 568, 764, 833, 214, 706]\n",
    "})\n",
    "sns.barplot(data=vehicle_dec_df, x='Vehicle_Type', y='Count')\n",
    "plt.title('[EGM Dec 2024] Top 10 Vehicle Types Involved in Accidents')\n",
    "plt.xticks(rotation=45)\n",
    "plt.tight_layout()\n",
    "plt.show()"
   ]
  },
  {
   "cell_type": "markdown",
   "id": "89f52fb8",
   "metadata": {},
   "source": [
    "## ✅ Conclusion\n",
    "- TUIK data shows that traffic accidents increase in summer and during daylight hours.\n",
    "- Hypothesis tests confirm statistically significant differences.\n",
    "- EGM monthly breakdowns reveal that cars and motorcycles consistently lead in accident involvement.\n",
    "\n",
    "**All visualizations and analysis for Phase 2 are complete.**"
   ]
  }
 ],
 "metadata": {},
 "nbformat": 4,
 "nbformat_minor": 5
}
